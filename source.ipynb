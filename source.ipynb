{
 "cells": [
  {
   "cell_type": "code",
   "execution_count": 1,
   "metadata": {},
   "outputs": [],
   "source": [
    "import pandas as pd\n",
    "import numpy as np\n",
    "import cohere\n",
    "import re\n",
    "from tqdm import tqdm\n",
    "import umap\n",
    "import altair as alt\n",
    "from sklearn.metrics.pairwise import cosine_similarity\n",
    "from annoy import AnnoyIndex\n",
    "import warnings\n",
    "warnings.filterwarnings('ignore')"
   ]
  },
  {
   "cell_type": "code",
   "execution_count": 2,
   "metadata": {},
   "outputs": [],
   "source": [
    "# Paste your API key here. Remember to not share publicly\n",
    "api_key = open(\"api_key.txt\").readlines()[0]\n",
    "\n",
    "# Create and retrieve a Cohere API key from os.cohere.ai\n",
    "co = cohere.Client(api_key)"
   ]
  },
  {
   "cell_type": "markdown",
   "metadata": {},
   "source": [
    "# Preprocessing"
   ]
  },
  {
   "cell_type": "code",
   "execution_count": 3,
   "metadata": {},
   "outputs": [],
   "source": [
    "df_multilingual = pd.read_csv('data/multilingual.csv')"
   ]
  },
  {
   "cell_type": "code",
   "execution_count": 4,
   "metadata": {},
   "outputs": [
    {
     "data": {
      "text/html": [
       "<div>\n",
       "<style scoped>\n",
       "    .dataframe tbody tr th:only-of-type {\n",
       "        vertical-align: middle;\n",
       "    }\n",
       "\n",
       "    .dataframe tbody tr th {\n",
       "        vertical-align: top;\n",
       "    }\n",
       "\n",
       "    .dataframe thead th {\n",
       "        text-align: right;\n",
       "    }\n",
       "</style>\n",
       "<table border=\"1\" class=\"dataframe\">\n",
       "  <thead>\n",
       "    <tr style=\"text-align: right;\">\n",
       "      <th></th>\n",
       "      <th>question</th>\n",
       "      <th>answer</th>\n",
       "      <th>url</th>\n",
       "      <th>language</th>\n",
       "      <th>source</th>\n",
       "      <th>section</th>\n",
       "      <th>wrong_answer</th>\n",
       "    </tr>\n",
       "  </thead>\n",
       "  <tbody>\n",
       "    <tr>\n",
       "      <th>0</th>\n",
       "      <td>什么是新型冠状病毒？</td>\n",
       "      <td>新型冠状病毒是一种此前尚未确定的新冠状病毒。导致新型冠状病毒肺炎 | 新冠肺炎2019（CO...</td>\n",
       "      <td>https://chinese.cdc.gov/coronavirus/2019-ncov/...</td>\n",
       "      <td>chinese</td>\n",
       "      <td>CDC</td>\n",
       "      <td>Frequently Asked Questions</td>\n",
       "      <td>使用 CDC 开发的诊断检测，结果为阴性是指在受测者样本中未发现导致 COVID-19 的病...</td>\n",
       "    </tr>\n",
       "    <tr>\n",
       "      <th>1</th>\n",
       "      <td>为什么这种疾病被称为 2019 年新型冠状病毒肺炎（COVID-19）？</td>\n",
       "      <td>2020 年 2 月 11 日，世界卫生组织宣布了导致最初于中国武汉发现的 2019 年新型...</td>\n",
       "      <td>https://chinese.cdc.gov/coronavirus/2019-ncov/...</td>\n",
       "      <td>chinese</td>\n",
       "      <td>CDC</td>\n",
       "      <td>Frequently Asked Questions</td>\n",
       "      <td>引发COVID-19的病毒被认为主要以人传人的方式，通过感染患者咳嗽或打喷嚏时产生的呼吸道飞...</td>\n",
       "    </tr>\n",
       "    <tr>\n",
       "      <th>2</th>\n",
       "      <td>为什么有人会因为 COVID-19 而指责或躲避某些个人和群体（制造污名）？</td>\n",
       "      <td>美国民众可能对住在或前往COVID-19传播地区的亲友感到担心焦虑。有些人很担心通过这些人感...</td>\n",
       "      <td>https://chinese.cdc.gov/coronavirus/2019-ncov/...</td>\n",
       "      <td>chinese</td>\n",
       "      <td>CDC</td>\n",
       "      <td>Frequently Asked Questions</td>\n",
       "      <td>目前，没有证据表明COVID-19病毒会从宠物的皮肤或皮毛传播给人类。\\n关于照顾宠物的最佳...</td>\n",
       "    </tr>\n",
       "    <tr>\n",
       "      <th>3</th>\n",
       "      <td>人们如何制止与 COVID-19 相关的污名化？</td>\n",
       "      <td>在注意到污名化正在发生的情况下，人们可以通过提供社会支持来对抗污名化。污名会影响被污名化群体...</td>\n",
       "      <td>https://chinese.cdc.gov/coronavirus/2019-ncov/...</td>\n",
       "      <td>chinese</td>\n",
       "      <td>CDC</td>\n",
       "      <td>Frequently Asked Questions</td>\n",
       "      <td>洗手是保护您与您的家人远离疾病的最佳途径之一。经常用肥皂和水洗手20秒以上，尤其是擤鼻涕、咳...</td>\n",
       "    </tr>\n",
       "    <tr>\n",
       "      <th>4</th>\n",
       "      <td>为何某些州的COVID-19病例数量有时与CDC网站上发布的数量有差别？</td>\n",
       "      <td>CDC发布的总病例数量依照各辖区的确认程序得以验证。不同的地方所显示的病例数量的发现和确认程...</td>\n",
       "      <td>https://chinese.cdc.gov/coronavirus/2019-ncov/...</td>\n",
       "      <td>chinese</td>\n",
       "      <td>CDC</td>\n",
       "      <td>Frequently Asked Questions</td>\n",
       "      <td>\\n\\n与孩子的学校保持联系。\\n\\n很多学校提供网络课程（虚拟学习）。查看学校布置的作业，...</td>\n",
       "    </tr>\n",
       "  </tbody>\n",
       "</table>\n",
       "</div>"
      ],
      "text/plain": [
       "                                 question  \\\n",
       "0                              什么是新型冠状病毒？   \n",
       "1    为什么这种疾病被称为 2019 年新型冠状病毒肺炎（COVID-19）？   \n",
       "2  为什么有人会因为 COVID-19 而指责或躲避某些个人和群体（制造污名）？   \n",
       "3                人们如何制止与 COVID-19 相关的污名化？   \n",
       "4    为何某些州的COVID-19病例数量有时与CDC网站上发布的数量有差别？   \n",
       "\n",
       "                                              answer  \\\n",
       "0  新型冠状病毒是一种此前尚未确定的新冠状病毒。导致新型冠状病毒肺炎 | 新冠肺炎2019（CO...   \n",
       "1  2020 年 2 月 11 日，世界卫生组织宣布了导致最初于中国武汉发现的 2019 年新型...   \n",
       "2  美国民众可能对住在或前往COVID-19传播地区的亲友感到担心焦虑。有些人很担心通过这些人感...   \n",
       "3  在注意到污名化正在发生的情况下，人们可以通过提供社会支持来对抗污名化。污名会影响被污名化群体...   \n",
       "4  CDC发布的总病例数量依照各辖区的确认程序得以验证。不同的地方所显示的病例数量的发现和确认程...   \n",
       "\n",
       "                                                 url language source  \\\n",
       "0  https://chinese.cdc.gov/coronavirus/2019-ncov/...  chinese    CDC   \n",
       "1  https://chinese.cdc.gov/coronavirus/2019-ncov/...  chinese    CDC   \n",
       "2  https://chinese.cdc.gov/coronavirus/2019-ncov/...  chinese    CDC   \n",
       "3  https://chinese.cdc.gov/coronavirus/2019-ncov/...  chinese    CDC   \n",
       "4  https://chinese.cdc.gov/coronavirus/2019-ncov/...  chinese    CDC   \n",
       "\n",
       "                      section  \\\n",
       "0  Frequently Asked Questions   \n",
       "1  Frequently Asked Questions   \n",
       "2  Frequently Asked Questions   \n",
       "3  Frequently Asked Questions   \n",
       "4  Frequently Asked Questions   \n",
       "\n",
       "                                        wrong_answer  \n",
       "0  使用 CDC 开发的诊断检测，结果为阴性是指在受测者样本中未发现导致 COVID-19 的病...  \n",
       "1  引发COVID-19的病毒被认为主要以人传人的方式，通过感染患者咳嗽或打喷嚏时产生的呼吸道飞...  \n",
       "2  目前，没有证据表明COVID-19病毒会从宠物的皮肤或皮毛传播给人类。\\n关于照顾宠物的最佳...  \n",
       "3  洗手是保护您与您的家人远离疾病的最佳途径之一。经常用肥皂和水洗手20秒以上，尤其是擤鼻涕、咳...  \n",
       "4  \\n\\n与孩子的学校保持联系。\\n\\n很多学校提供网络课程（虚拟学习）。查看学校布置的作业，...  "
      ]
     },
     "execution_count": 4,
     "metadata": {},
     "output_type": "execute_result"
    }
   ],
   "source": [
    "df_multilingual.head()"
   ]
  },
  {
   "cell_type": "code",
   "execution_count": 5,
   "metadata": {},
   "outputs": [],
   "source": [
    "df_qa = pd.read_csv('data/qa.csv')"
   ]
  },
  {
   "cell_type": "code",
   "execution_count": 6,
   "metadata": {},
   "outputs": [
    {
     "data": {
      "text/html": [
       "<div>\n",
       "<style scoped>\n",
       "    .dataframe tbody tr th:only-of-type {\n",
       "        vertical-align: middle;\n",
       "    }\n",
       "\n",
       "    .dataframe tbody tr th {\n",
       "        vertical-align: top;\n",
       "    }\n",
       "\n",
       "    .dataframe thead th {\n",
       "        text-align: right;\n",
       "    }\n",
       "</style>\n",
       "<table border=\"1\" class=\"dataframe\">\n",
       "  <thead>\n",
       "    <tr style=\"text-align: right;\">\n",
       "      <th></th>\n",
       "      <th>AnswerID</th>\n",
       "      <th>Answer</th>\n",
       "    </tr>\n",
       "  </thead>\n",
       "  <tbody>\n",
       "    <tr>\n",
       "      <th>0</th>\n",
       "      <td>ADAM_0003147_Sec1.txt</td>\n",
       "      <td>Question: What is (are) Polycystic ovary syndr...</td>\n",
       "    </tr>\n",
       "    <tr>\n",
       "      <th>1</th>\n",
       "      <td>ADAM_0003147_Sec2.txt</td>\n",
       "      <td>Question: What causes Polycystic ovary syndrom...</td>\n",
       "    </tr>\n",
       "    <tr>\n",
       "      <th>2</th>\n",
       "      <td>ADAM_0002818_Sec2.txt</td>\n",
       "      <td>Question: What causes Noonan syndrome ?\\nURL: ...</td>\n",
       "    </tr>\n",
       "    <tr>\n",
       "      <th>3</th>\n",
       "      <td>ADAM_0002818_Sec7.txt</td>\n",
       "      <td>Question: What are the complications of Noonan...</td>\n",
       "    </tr>\n",
       "    <tr>\n",
       "      <th>4</th>\n",
       "      <td>ADAM_0002818_Sec9.txt</td>\n",
       "      <td>Question: How to prevent Noonan syndrome ?\\nUR...</td>\n",
       "    </tr>\n",
       "  </tbody>\n",
       "</table>\n",
       "</div>"
      ],
      "text/plain": [
       "                AnswerID                                             Answer\n",
       "0  ADAM_0003147_Sec1.txt  Question: What is (are) Polycystic ovary syndr...\n",
       "1  ADAM_0003147_Sec2.txt  Question: What causes Polycystic ovary syndrom...\n",
       "2  ADAM_0002818_Sec2.txt  Question: What causes Noonan syndrome ?\\nURL: ...\n",
       "3  ADAM_0002818_Sec7.txt  Question: What are the complications of Noonan...\n",
       "4  ADAM_0002818_Sec9.txt  Question: How to prevent Noonan syndrome ?\\nUR..."
      ]
     },
     "execution_count": 6,
     "metadata": {},
     "output_type": "execute_result"
    }
   ],
   "source": [
    "df_qa.head()"
   ]
  },
  {
   "cell_type": "code",
   "execution_count": 7,
   "metadata": {},
   "outputs": [],
   "source": [
    "text = list(df_qa.Answer)"
   ]
  },
  {
   "cell_type": "code",
   "execution_count": 8,
   "metadata": {},
   "outputs": [],
   "source": [
    "question = []\n",
    "url = []\n",
    "answer = []\n",
    "for i in text:\n",
    "    x = i.split(\"\\n\")\n",
    "    question.append(x[0].replace(\"Question: \", \"\"))\n",
    "    url.append(x[1].replace(\"URL: \",\"\"))\n",
    "    answer.append(\" \".join(x[2:]).replace(\"Answer: \", \"\"))"
   ]
  },
  {
   "cell_type": "code",
   "execution_count": 9,
   "metadata": {},
   "outputs": [],
   "source": [
    "for index, row in df_multilingual.iterrows():\n",
    "    question.append(row['question'])\n",
    "    url.append(row['url'])\n",
    "    answer.append(row['answer'])"
   ]
  },
  {
   "cell_type": "code",
   "execution_count": 10,
   "metadata": {},
   "outputs": [
    {
     "data": {
      "text/html": [
       "<div>\n",
       "<style scoped>\n",
       "    .dataframe tbody tr th:only-of-type {\n",
       "        vertical-align: middle;\n",
       "    }\n",
       "\n",
       "    .dataframe tbody tr th {\n",
       "        vertical-align: top;\n",
       "    }\n",
       "\n",
       "    .dataframe thead th {\n",
       "        text-align: right;\n",
       "    }\n",
       "</style>\n",
       "<table border=\"1\" class=\"dataframe\">\n",
       "  <thead>\n",
       "    <tr style=\"text-align: right;\">\n",
       "      <th></th>\n",
       "      <th>Question</th>\n",
       "      <th>URL</th>\n",
       "      <th>Answer</th>\n",
       "    </tr>\n",
       "  </thead>\n",
       "  <tbody>\n",
       "    <tr>\n",
       "      <th>0</th>\n",
       "      <td>What is (are) Polycystic ovary syndrome ? (Als...</td>\n",
       "      <td>https://www.nlm.nih.gov/medlineplus/ency/artic...</td>\n",
       "      <td>Polycystic ovary syndrome is a condition in wh...</td>\n",
       "    </tr>\n",
       "    <tr>\n",
       "      <th>1</th>\n",
       "      <td>What causes Polycystic ovary syndrome ? (Also ...</td>\n",
       "      <td>https://www.nlm.nih.gov/medlineplus/ency/artic...</td>\n",
       "      <td>PCOS is linked to changes in hormone levels th...</td>\n",
       "    </tr>\n",
       "    <tr>\n",
       "      <th>2</th>\n",
       "      <td>What causes Noonan syndrome ?</td>\n",
       "      <td>https://www.nlm.nih.gov/medlineplus/ency/artic...</td>\n",
       "      <td>Noonan syndrome is linked to defects in severa...</td>\n",
       "    </tr>\n",
       "    <tr>\n",
       "      <th>3</th>\n",
       "      <td>What are the complications of Noonan syndrome ?</td>\n",
       "      <td>https://www.nlm.nih.gov/medlineplus/ency/artic...</td>\n",
       "      <td>- Buildup of fluid in tissues of body (lymphed...</td>\n",
       "    </tr>\n",
       "    <tr>\n",
       "      <th>4</th>\n",
       "      <td>How to prevent Noonan syndrome ?</td>\n",
       "      <td>https://www.nlm.nih.gov/medlineplus/ency/artic...</td>\n",
       "      <td>Couples with a family history of Noonan syndro...</td>\n",
       "    </tr>\n",
       "  </tbody>\n",
       "</table>\n",
       "</div>"
      ],
      "text/plain": [
       "                                            Question  \\\n",
       "0  What is (are) Polycystic ovary syndrome ? (Als...   \n",
       "1  What causes Polycystic ovary syndrome ? (Also ...   \n",
       "2                      What causes Noonan syndrome ?   \n",
       "3    What are the complications of Noonan syndrome ?   \n",
       "4                   How to prevent Noonan syndrome ?   \n",
       "\n",
       "                                                 URL  \\\n",
       "0  https://www.nlm.nih.gov/medlineplus/ency/artic...   \n",
       "1  https://www.nlm.nih.gov/medlineplus/ency/artic...   \n",
       "2  https://www.nlm.nih.gov/medlineplus/ency/artic...   \n",
       "3  https://www.nlm.nih.gov/medlineplus/ency/artic...   \n",
       "4  https://www.nlm.nih.gov/medlineplus/ency/artic...   \n",
       "\n",
       "                                              Answer  \n",
       "0  Polycystic ovary syndrome is a condition in wh...  \n",
       "1  PCOS is linked to changes in hormone levels th...  \n",
       "2  Noonan syndrome is linked to defects in severa...  \n",
       "3  - Buildup of fluid in tissues of body (lymphed...  \n",
       "4  Couples with a family history of Noonan syndro...  "
      ]
     },
     "execution_count": 10,
     "metadata": {},
     "output_type": "execute_result"
    }
   ],
   "source": [
    "df_final = pd.DataFrame(zip(question, url, answer), columns =['Question', 'URL', 'Answer'])\n",
    "df_final.head()"
   ]
  },
  {
   "cell_type": "code",
   "execution_count": 15,
   "metadata": {},
   "outputs": [
    {
     "data": {
      "text/plain": [
       "(3367, 3)"
      ]
     },
     "execution_count": 15,
     "metadata": {},
     "output_type": "execute_result"
    }
   ],
   "source": [
    "df_final.shape"
   ]
  },
  {
   "cell_type": "code",
   "execution_count": 25,
   "metadata": {},
   "outputs": [],
   "source": [
    "df_final.to_csv(\"data/finaldf.csv\", index=False)"
   ]
  },
  {
   "cell_type": "markdown",
   "metadata": {},
   "source": [
    "# Training"
   ]
  },
  {
   "cell_type": "code",
   "execution_count": 26,
   "metadata": {},
   "outputs": [
    {
     "data": {
      "text/html": [
       "<div>\n",
       "<style scoped>\n",
       "    .dataframe tbody tr th:only-of-type {\n",
       "        vertical-align: middle;\n",
       "    }\n",
       "\n",
       "    .dataframe tbody tr th {\n",
       "        vertical-align: top;\n",
       "    }\n",
       "\n",
       "    .dataframe thead th {\n",
       "        text-align: right;\n",
       "    }\n",
       "</style>\n",
       "<table border=\"1\" class=\"dataframe\">\n",
       "  <thead>\n",
       "    <tr style=\"text-align: right;\">\n",
       "      <th></th>\n",
       "      <th>Question</th>\n",
       "      <th>URL</th>\n",
       "      <th>Answer</th>\n",
       "    </tr>\n",
       "  </thead>\n",
       "  <tbody>\n",
       "    <tr>\n",
       "      <th>0</th>\n",
       "      <td>What is (are) Polycystic ovary syndrome ? (Als...</td>\n",
       "      <td>https://www.nlm.nih.gov/medlineplus/ency/artic...</td>\n",
       "      <td>Polycystic ovary syndrome is a condition in wh...</td>\n",
       "    </tr>\n",
       "    <tr>\n",
       "      <th>1</th>\n",
       "      <td>What causes Polycystic ovary syndrome ? (Also ...</td>\n",
       "      <td>https://www.nlm.nih.gov/medlineplus/ency/artic...</td>\n",
       "      <td>PCOS is linked to changes in hormone levels th...</td>\n",
       "    </tr>\n",
       "    <tr>\n",
       "      <th>2</th>\n",
       "      <td>What causes Noonan syndrome ?</td>\n",
       "      <td>https://www.nlm.nih.gov/medlineplus/ency/artic...</td>\n",
       "      <td>Noonan syndrome is linked to defects in severa...</td>\n",
       "    </tr>\n",
       "    <tr>\n",
       "      <th>3</th>\n",
       "      <td>What are the complications of Noonan syndrome ?</td>\n",
       "      <td>https://www.nlm.nih.gov/medlineplus/ency/artic...</td>\n",
       "      <td>- Buildup of fluid in tissues of body (lymphed...</td>\n",
       "    </tr>\n",
       "    <tr>\n",
       "      <th>4</th>\n",
       "      <td>How to prevent Noonan syndrome ?</td>\n",
       "      <td>https://www.nlm.nih.gov/medlineplus/ency/artic...</td>\n",
       "      <td>Couples with a family history of Noonan syndro...</td>\n",
       "    </tr>\n",
       "  </tbody>\n",
       "</table>\n",
       "</div>"
      ],
      "text/plain": [
       "                                            Question  \\\n",
       "0  What is (are) Polycystic ovary syndrome ? (Als...   \n",
       "1  What causes Polycystic ovary syndrome ? (Also ...   \n",
       "2                      What causes Noonan syndrome ?   \n",
       "3    What are the complications of Noonan syndrome ?   \n",
       "4                   How to prevent Noonan syndrome ?   \n",
       "\n",
       "                                                 URL  \\\n",
       "0  https://www.nlm.nih.gov/medlineplus/ency/artic...   \n",
       "1  https://www.nlm.nih.gov/medlineplus/ency/artic...   \n",
       "2  https://www.nlm.nih.gov/medlineplus/ency/artic...   \n",
       "3  https://www.nlm.nih.gov/medlineplus/ency/artic...   \n",
       "4  https://www.nlm.nih.gov/medlineplus/ency/artic...   \n",
       "\n",
       "                                              Answer  \n",
       "0  Polycystic ovary syndrome is a condition in wh...  \n",
       "1  PCOS is linked to changes in hormone levels th...  \n",
       "2  Noonan syndrome is linked to defects in severa...  \n",
       "3  - Buildup of fluid in tissues of body (lymphed...  \n",
       "4  Couples with a family history of Noonan syndro...  "
      ]
     },
     "execution_count": 26,
     "metadata": {},
     "output_type": "execute_result"
    }
   ],
   "source": [
    "df = pd.read_csv(\"data/finaldf.csv\")\n",
    "df.head()"
   ]
  },
  {
   "cell_type": "code",
   "execution_count": null,
   "metadata": {},
   "outputs": [],
   "source": [
    "df_flatten = [' '.join(val[:2048]) for val in df_final.astype(str).values.tolist()]\n",
    "len(df_flatten)"
   ]
  },
  {
   "cell_type": "code",
   "execution_count": null,
   "metadata": {},
   "outputs": [],
   "source": []
  },
  {
   "cell_type": "code",
   "execution_count": 24,
   "metadata": {},
   "outputs": [
    {
     "data": {
      "text/plain": [
       "991"
      ]
     },
     "execution_count": 24,
     "metadata": {},
     "output_type": "execute_result"
    }
   ],
   "source": [
    "len(df_flatten[14])"
   ]
  },
  {
   "cell_type": "code",
   "execution_count": 18,
   "metadata": {},
   "outputs": [
    {
     "ename": "CohereError",
     "evalue": "invalid request: texts[12] is too long. Max tokens per text must be at most 2048 - received 2358. Text: 'What causes Chronic Diarrhea in Children ? http://www.niddk.nih.gov/health-information/health-topics/digestive-diseases/diarrhea/Pages/diarrhea-in-children-facts.aspx Many diseases and disorders can cause chronic diarrhea in children. Common causes include                  - infections  - functional gastrointestinal (GI) disorders  - food allergies and intolerances  - inflammatory bowel disease (IBD)                  Infections, food allergies and intolerances, and IBD may cause chronic diarrhea along with malabsorption, meaning the small intestine does not absorb nutrients from food. If children do not absorb enough nutrients from the food they eat, they may become malnourished. Functional GI disorders do not cause malabsorption.                  Infections                  Infections from viruses, bacteria, or parasites sometimes lead to chronic diarrhea. After an infection, some children have problems digesting carbohydrates, such as lactose, or proteins, such as milk or soy proteins. These problems can cause prolonged diarrheaoften for up to 6 weeksafter an infection. Also, some bacteria and parasite infections that cause diarrhea do not go away quickly without treatment.                  More information about infections that cause diarrhea is provided in the NIDDK health topics:                  - Viral Gastroenteritis  - Foodborne Illnesses                  Small intestinal bacterial overgrowth may also cause chronic diarrhea. Normally, few bacteria live in the small intestine, and many bacteria live in the large intestine. Small intestinal bacterial overgrowth is an increase in the number of bacteria or a change in the type of bacteria in the small intestine. These bacteria can cause diarrhea, gas, cramping, and weight loss. Small intestinal bacterial overgrowth is often related to diseases or disorders that damage the digestive system or affect how it works, such as Crohns disease or diabetes. Small intestinal bacterial overgrowth is also more common in people who have had abdominal surgery or who have slow-moving intestines.                  Functional Gastrointestinal Disorders                  In functional GI disorders, symptoms are caused by changes in how the GI tract works. The GI tract is a series of hollow organs joined in a long, twisting tube from the mouth to the anusthe opening through which stool leaves the body. The GI tract digests, or breaks down, food and processes solid waste.                  Children with a functional GI disorder have frequent symptoms, yet the GI tract does not become damaged. Functional GI disorders are not diseases; they are groups of symptoms that occur together.                  Two functional GI disorders that cause chronic diarrhea in children are toddlers diarrhea and irritable bowel syndrome (IBS).                  Toddlers diarrhea. Toddlers diarrheaalso called functional diarrhea or chronic nonspecific diarrhea of childhoodis a common cause of chronic diarrhea in toddlers and preschool-age children. Children with this disorder pass three or more loose stools a day and do not have any other symptoms. They typically are growing well and gaining weight, and are healthy.                  Toddlers diarrhea develops between the ages of 6 months and 3 years, and it usually goes away on its own by the time children begin grade school. Researchers think a diet with too much sugarsuch as the sugar found in fruit juicerelative to the amount of fat and fiber may cause toddlers diarrhea.                  IBS. The most common symptoms of IBS are abdominal pain or discomfort, often reported as cramping, along with changes in bowel habits, such as diarrhea. The pain or discomfort of IBS typically gets better with the passage of stool or gas. IBS does not cause symptoms such as weight loss, vomiting, or blood in the stool.                  Possible causes include problems with nerves in the intestines, problems with nerve signals between the brain and the intestines, changes in how food moves through the intestines, and hypersensitivity to pain. Psychological problems, such as anxiety and depression, or food sensitivity may also play a role.                  IBS is a common cause of chronic diarrhea in grade school-age children and adolescents. Health care providers rarely diagnose IBS in younger children because younger children are not able to report symptoms of pain or discomfort. More information is provided in the NIDDK health topics:                  - Irritable Bowel Syndrome  - Irritable Bowel Syndrome in Children                  Food Allergies and Intolerances                  Food allergies, celiac disease, lactose intolerance, and dietary fructose intolerance are common causes of chronic diarrhea.                  Food allergies. A food allergy is a reaction by the immune system, the bodys natural defense system, to one or more proteins in certain foods. The immune system normally protects the body from infection by identifying and destroying bacteria, viruses, and other potentially harmful foreign substances that can cause illness. In food allergies, however, the immune system responds abnormally to certain foods.                  Cows milk and soy allergies are the most common food allergies that affect the GI tract in children. Food allergies usually appear in the first year of life. Many children outgrow cows milk and soy allergies by age 3. Allergies to other foods, such as cereal grains, eggs, or seafood, may also affect the GI tract.                  Symptoms of food allergies may include diarrhea, vomiting, and weight loss or poor weight gain. Some children have mild symptoms, while others have severe or life-threatening symptoms. For example, some children have severe vomiting and diarrhea that lead to dehydration, which means the body lacks enough fluid and electrolytesminerals in salts, including sodium, potassium, and chlorideto function properly.                  Celiac disease. Celiac disease is an autoimmune disease in which people cannot tolerate gluten. A chronic reaction to gluten damages the lining of their small intestine and prevents absorption of nutrients. Gluten is a protein found in wheat, rye, and barley and in vitamin and nutrient supplements, lip balms, communion wafers, and certain medications.                  Children of any age can experience digestive symptoms of celiac disease or have symptoms in other parts of the body. Digestive symptoms can include                  - chronic diarrhea  - abdominal bloating  - stomach pain  - gas  - vomiting  - constipation  - pale, foul-smelling, or fatty stool                  Malabsorption of nutrients during the years when nutrition is critical to a childs normal growth and development can result in other health problems. These problems may include                  - failure to thrive in infants  - slowed growth and short stature  - weight loss  - irritability or mood changes  - delayed puberty  - dental enamel defects of the permanent teeth  - anemia, a condition in which red blood cells are fewer or smaller than normal, which prevents the bodys cells from getting enough oxygen  - low levels of important nutrients such as iron and calcium                  More information is provided in the NIDDK health topics:                  - Celiac Disease  - What I need to know about Celiac Disease                  Lactose intolerance. Lactose intolerance is a condition in which people have digestive symptomssuch as bloating, gas, and diarrheaafter consuming milk or milk products. Lactose is a sugar found in milk or milk products. Lactase, an enzyme produced by the small intestine, breaks down lactose into two simpler forms of sugar: glucose and galactose. The bloodstream then absorbs these simpler sugars.                  Some children have a lactase deficiency, meaning the small intestine produces low levels of lactase and cannot digest much lactose. Lactase deficiency may cause lactose malabsorption. In children with lactose malabsorption, undigested lactose passes to the colon, where bacteria break down the lactose and create fluid and gas.                  Not all children with lactase deficiency and lactose malabsorption have digestive symptoms. Experts use the term lactose intolerance when lactase deficiency and lactose malabsorption cause digestive symptoms.                  The most common type of lactase deficiency develops over time, beginning after about age 2, when the body begins to produce less lactase. Children who have lactase deficiency may not experience symptoms of lactose intolerance until late adolescence or adulthood.                  Infants rarely have lactose intolerance at birth. People sometimes mistake cows milk allergy, which can cause diarrhea in infants, for lactose intolerance. Congenital lactase deficiencyan extremely rare inherited genetic disorder in which the small intestine produces little or no lactase enzyme at birthcan cause lactose intolerance in infants. Premature infants may experience lactose intolerance for a short time after birth. Children of any age may develop temporary lactose intolerance after a viral diarrheal episode or other infection.                  More information is provided in the NIDDK health topics:                  - Lactose Intolerance  - What I need to know about Lactose Intolerance                  Dietary fructose intolerance. Dietary fructose intolerance is a condition in which people have digestive symptomssuch as bloating, gas, and diarrheaafter consuming foods that contain fructose. Fructose is a sugar found in fruits, fruit juices, and honey. Fructose is also added to many foods and soft drinks as a sweetener called high fructose corn syrup.                  Fructose malabsorption causes dietary fructose intolerance. The small intestine absorbs fructose, and, when a person consumes more fructose than the small intestine can absorb, fructose malabsorption results. Unabsorbed fructose passes to the colon, where bacteria break down the fructose and create fluid and gas.                  The amount of fructose that a childs small intestine can absorb varies. The capacity of the small intestine to absorb fructose increases with age. Some children may be able to tolerate more fructose as they get older.                  Another type of fructose intolerance, hereditary fructose intolerance, is not related to fructose malabsorption. Hereditary fructose intolerance is an extremely rare inherited genetic disorder. Children with this disorder lack an enzyme needed to break down fructose. Symptoms of hereditary fructose intolerance may include abdominal pain, vomiting, and diarrhea. This disorder can also damage the liver and kidneys.                  Inflammatory Bowel Disease                  Inflammatory bowel disease causes irritation and inflammation in the intestines. The two main types of IBD are ulcerative colitis and Crohns disease. These disorders can affect children at any age; however, they commonly begin in the grade school years or in adolescence. The causes of IBD are unknown. Researchers believe they result from an abnormal immune system reaction.                  Ulcerative colitis. Ulcerative colitis is a disease that causes inflammation, or swelling, and ulcers in the inner lining of the large intestine. The large intestine includes the colon and the rectumthe lower end of the large intestine leading to the anus. Normally, the large intestine absorbs water from stool and changes it from a liquid to a solid. In ulcerative colitis, the inflammation causes loss of the lining of the large intestine, leading to bleeding, production of pus, diarrhea, and abdominal discomfort.                  More information is provided in the NIDDK health topic, Ulcerative Colitis.                  Crohns disease. Crohns disease is a disease that causes inflammation and irritation of any part of the GI tract. The end part of the small intestine, called the ileum, is most commonly affected. In Crohns disease, inflammation can extend through the entire wall of the GI tract, leading to possible complications. Swelling can cause pain and can make the intestine empty frequently, resulting in diarrhea.                  More information is provided in the NIDDK health topics:                  - Crohns Disease  - What I need to know about Crohns Disease)  '",
     "output_type": "error",
     "traceback": [
      "\u001b[0;31m---------------------------------------------------------------------------\u001b[0m",
      "\u001b[0;31mCohereError\u001b[0m                               Traceback (most recent call last)",
      "Input \u001b[0;32mIn [18]\u001b[0m, in \u001b[0;36m<cell line: 1>\u001b[0;34m()\u001b[0m\n\u001b[0;32m----> 1\u001b[0m response \u001b[38;5;241m=\u001b[39m \u001b[43mco\u001b[49m\u001b[38;5;241;43m.\u001b[39;49m\u001b[43membed\u001b[49m\u001b[43m(\u001b[49m\u001b[43mtexts\u001b[49m\u001b[38;5;241;43m=\u001b[39;49m\u001b[43mdf_flatten\u001b[49m\u001b[43m,\u001b[49m\u001b[43m \u001b[49m\u001b[43mmodel\u001b[49m\u001b[38;5;241;43m=\u001b[39;49m\u001b[38;5;124;43m'\u001b[39;49m\u001b[38;5;124;43mmultilingual-22-12\u001b[39;49m\u001b[38;5;124;43m'\u001b[39;49m\u001b[43m)\u001b[49m  \n\u001b[1;32m      2\u001b[0m embeddings \u001b[38;5;241m=\u001b[39m response\u001b[38;5;241m.\u001b[39membeddings \u001b[38;5;66;03m# All text embeddings \u001b[39;00m\n\u001b[1;32m      3\u001b[0m \u001b[38;5;28mprint\u001b[39m(embeddings[\u001b[38;5;241m0\u001b[39m][:\u001b[38;5;241m5\u001b[39m])\n",
      "File \u001b[0;32m/opt/homebrew/lib/python3.9/site-packages/cohere/client.py:138\u001b[0m, in \u001b[0;36mClient.embed\u001b[0;34m(self, texts, model, truncate)\u001b[0m\n\u001b[1;32m    136\u001b[0m         responses\u001b[38;5;241m.\u001b[39mappend(response[\u001b[38;5;124m'\u001b[39m\u001b[38;5;124membeddings\u001b[39m\u001b[38;5;124m'\u001b[39m])\n\u001b[1;32m    137\u001b[0m \u001b[38;5;28;01melse\u001b[39;00m:\n\u001b[0;32m--> 138\u001b[0m     \u001b[38;5;28;01mfor\u001b[39;00m result \u001b[38;5;129;01min\u001b[39;00m \u001b[38;5;28mself\u001b[39m\u001b[38;5;241m.\u001b[39m_executor\u001b[38;5;241m.\u001b[39mmap(\u001b[38;5;28;01mlambda\u001b[39;00m json_body: \u001b[38;5;28mself\u001b[39m\u001b[38;5;241m.\u001b[39m__request(cohere\u001b[38;5;241m.\u001b[39mEMBED_URL, json\u001b[38;5;241m=\u001b[39mjson_body),\n\u001b[1;32m    139\u001b[0m                                      json_bodys):\n\u001b[1;32m    140\u001b[0m         responses\u001b[38;5;241m.\u001b[39mextend(result[\u001b[38;5;124m'\u001b[39m\u001b[38;5;124membeddings\u001b[39m\u001b[38;5;124m'\u001b[39m])\n\u001b[1;32m    142\u001b[0m \u001b[38;5;28;01mreturn\u001b[39;00m Embeddings(responses)\n",
      "File \u001b[0;32m/opt/homebrew/Cellar/python@3.9/3.9.15/Frameworks/Python.framework/Versions/3.9/lib/python3.9/concurrent/futures/_base.py:609\u001b[0m, in \u001b[0;36mExecutor.map.<locals>.result_iterator\u001b[0;34m()\u001b[0m\n\u001b[1;32m    606\u001b[0m \u001b[38;5;28;01mwhile\u001b[39;00m fs:\n\u001b[1;32m    607\u001b[0m     \u001b[38;5;66;03m# Careful not to keep a reference to the popped future\u001b[39;00m\n\u001b[1;32m    608\u001b[0m     \u001b[38;5;28;01mif\u001b[39;00m timeout \u001b[38;5;129;01mis\u001b[39;00m \u001b[38;5;28;01mNone\u001b[39;00m:\n\u001b[0;32m--> 609\u001b[0m         \u001b[38;5;28;01myield\u001b[39;00m \u001b[43mfs\u001b[49m\u001b[38;5;241;43m.\u001b[39;49m\u001b[43mpop\u001b[49m\u001b[43m(\u001b[49m\u001b[43m)\u001b[49m\u001b[38;5;241;43m.\u001b[39;49m\u001b[43mresult\u001b[49m\u001b[43m(\u001b[49m\u001b[43m)\u001b[49m\n\u001b[1;32m    610\u001b[0m     \u001b[38;5;28;01melse\u001b[39;00m:\n\u001b[1;32m    611\u001b[0m         \u001b[38;5;28;01myield\u001b[39;00m fs\u001b[38;5;241m.\u001b[39mpop()\u001b[38;5;241m.\u001b[39mresult(end_time \u001b[38;5;241m-\u001b[39m time\u001b[38;5;241m.\u001b[39mmonotonic())\n",
      "File \u001b[0;32m/opt/homebrew/Cellar/python@3.9/3.9.15/Frameworks/Python.framework/Versions/3.9/lib/python3.9/concurrent/futures/_base.py:439\u001b[0m, in \u001b[0;36mFuture.result\u001b[0;34m(self, timeout)\u001b[0m\n\u001b[1;32m    437\u001b[0m     \u001b[38;5;28;01mraise\u001b[39;00m CancelledError()\n\u001b[1;32m    438\u001b[0m \u001b[38;5;28;01melif\u001b[39;00m \u001b[38;5;28mself\u001b[39m\u001b[38;5;241m.\u001b[39m_state \u001b[38;5;241m==\u001b[39m FINISHED:\n\u001b[0;32m--> 439\u001b[0m     \u001b[38;5;28;01mreturn\u001b[39;00m \u001b[38;5;28;43mself\u001b[39;49m\u001b[38;5;241;43m.\u001b[39;49m\u001b[43m__get_result\u001b[49m\u001b[43m(\u001b[49m\u001b[43m)\u001b[49m\n\u001b[1;32m    441\u001b[0m \u001b[38;5;28mself\u001b[39m\u001b[38;5;241m.\u001b[39m_condition\u001b[38;5;241m.\u001b[39mwait(timeout)\n\u001b[1;32m    443\u001b[0m \u001b[38;5;28;01mif\u001b[39;00m \u001b[38;5;28mself\u001b[39m\u001b[38;5;241m.\u001b[39m_state \u001b[38;5;129;01min\u001b[39;00m [CANCELLED, CANCELLED_AND_NOTIFIED]:\n",
      "File \u001b[0;32m/opt/homebrew/Cellar/python@3.9/3.9.15/Frameworks/Python.framework/Versions/3.9/lib/python3.9/concurrent/futures/_base.py:391\u001b[0m, in \u001b[0;36mFuture.__get_result\u001b[0;34m(self)\u001b[0m\n\u001b[1;32m    389\u001b[0m \u001b[38;5;28;01mif\u001b[39;00m \u001b[38;5;28mself\u001b[39m\u001b[38;5;241m.\u001b[39m_exception:\n\u001b[1;32m    390\u001b[0m     \u001b[38;5;28;01mtry\u001b[39;00m:\n\u001b[0;32m--> 391\u001b[0m         \u001b[38;5;28;01mraise\u001b[39;00m \u001b[38;5;28mself\u001b[39m\u001b[38;5;241m.\u001b[39m_exception\n\u001b[1;32m    392\u001b[0m     \u001b[38;5;28;01mfinally\u001b[39;00m:\n\u001b[1;32m    393\u001b[0m         \u001b[38;5;66;03m# Break a reference cycle with the exception in self._exception\u001b[39;00m\n\u001b[1;32m    394\u001b[0m         \u001b[38;5;28mself\u001b[39m \u001b[38;5;241m=\u001b[39m \u001b[38;5;28;01mNone\u001b[39;00m\n",
      "File \u001b[0;32m/opt/homebrew/Cellar/python@3.9/3.9.15/Frameworks/Python.framework/Versions/3.9/lib/python3.9/concurrent/futures/thread.py:58\u001b[0m, in \u001b[0;36m_WorkItem.run\u001b[0;34m(self)\u001b[0m\n\u001b[1;32m     55\u001b[0m     \u001b[38;5;28;01mreturn\u001b[39;00m\n\u001b[1;32m     57\u001b[0m \u001b[38;5;28;01mtry\u001b[39;00m:\n\u001b[0;32m---> 58\u001b[0m     result \u001b[38;5;241m=\u001b[39m \u001b[38;5;28;43mself\u001b[39;49m\u001b[38;5;241;43m.\u001b[39;49m\u001b[43mfn\u001b[49m\u001b[43m(\u001b[49m\u001b[38;5;241;43m*\u001b[39;49m\u001b[38;5;28;43mself\u001b[39;49m\u001b[38;5;241;43m.\u001b[39;49m\u001b[43margs\u001b[49m\u001b[43m,\u001b[49m\u001b[43m \u001b[49m\u001b[38;5;241;43m*\u001b[39;49m\u001b[38;5;241;43m*\u001b[39;49m\u001b[38;5;28;43mself\u001b[39;49m\u001b[38;5;241;43m.\u001b[39;49m\u001b[43mkwargs\u001b[49m\u001b[43m)\u001b[49m\n\u001b[1;32m     59\u001b[0m \u001b[38;5;28;01mexcept\u001b[39;00m \u001b[38;5;167;01mBaseException\u001b[39;00m \u001b[38;5;28;01mas\u001b[39;00m exc:\n\u001b[1;32m     60\u001b[0m     \u001b[38;5;28mself\u001b[39m\u001b[38;5;241m.\u001b[39mfuture\u001b[38;5;241m.\u001b[39mset_exception(exc)\n",
      "File \u001b[0;32m/opt/homebrew/lib/python3.9/site-packages/cohere/client.py:138\u001b[0m, in \u001b[0;36mClient.embed.<locals>.<lambda>\u001b[0;34m(json_body)\u001b[0m\n\u001b[1;32m    136\u001b[0m         responses\u001b[38;5;241m.\u001b[39mappend(response[\u001b[38;5;124m'\u001b[39m\u001b[38;5;124membeddings\u001b[39m\u001b[38;5;124m'\u001b[39m])\n\u001b[1;32m    137\u001b[0m \u001b[38;5;28;01melse\u001b[39;00m:\n\u001b[0;32m--> 138\u001b[0m     \u001b[38;5;28;01mfor\u001b[39;00m result \u001b[38;5;129;01min\u001b[39;00m \u001b[38;5;28mself\u001b[39m\u001b[38;5;241m.\u001b[39m_executor\u001b[38;5;241m.\u001b[39mmap(\u001b[38;5;28;01mlambda\u001b[39;00m json_body: \u001b[38;5;28;43mself\u001b[39;49m\u001b[38;5;241;43m.\u001b[39;49m\u001b[43m__request\u001b[49m\u001b[43m(\u001b[49m\u001b[43mcohere\u001b[49m\u001b[38;5;241;43m.\u001b[39;49m\u001b[43mEMBED_URL\u001b[49m\u001b[43m,\u001b[49m\u001b[43m \u001b[49m\u001b[43mjson\u001b[49m\u001b[38;5;241;43m=\u001b[39;49m\u001b[43mjson_body\u001b[49m\u001b[43m)\u001b[49m,\n\u001b[1;32m    139\u001b[0m                                      json_bodys):\n\u001b[1;32m    140\u001b[0m         responses\u001b[38;5;241m.\u001b[39mextend(result[\u001b[38;5;124m'\u001b[39m\u001b[38;5;124membeddings\u001b[39m\u001b[38;5;124m'\u001b[39m])\n\u001b[1;32m    142\u001b[0m \u001b[38;5;28;01mreturn\u001b[39;00m Embeddings(responses)\n",
      "File \u001b[0;32m/opt/homebrew/lib/python3.9/site-packages/cohere/client.py:226\u001b[0m, in \u001b[0;36mClient.__request\u001b[0;34m(self, endpoint, json)\u001b[0m\n\u001b[1;32m    224\u001b[0m         \u001b[38;5;28;01mraise\u001b[39;00m CohereError(message\u001b[38;5;241m=\u001b[39mresponse\u001b[38;5;241m.\u001b[39mtext, http_status\u001b[38;5;241m=\u001b[39mresponse\u001b[38;5;241m.\u001b[39mstatus_code, headers\u001b[38;5;241m=\u001b[39mresponse\u001b[38;5;241m.\u001b[39mheaders)\n\u001b[1;32m    225\u001b[0m     \u001b[38;5;28;01mif\u001b[39;00m \u001b[38;5;124m'\u001b[39m\u001b[38;5;124mmessage\u001b[39m\u001b[38;5;124m'\u001b[39m \u001b[38;5;129;01min\u001b[39;00m res:  \u001b[38;5;66;03m# has errors\u001b[39;00m\n\u001b[0;32m--> 226\u001b[0m         \u001b[38;5;28;01mraise\u001b[39;00m CohereError(message\u001b[38;5;241m=\u001b[39mres[\u001b[38;5;124m'\u001b[39m\u001b[38;5;124mmessage\u001b[39m\u001b[38;5;124m'\u001b[39m], http_status\u001b[38;5;241m=\u001b[39mresponse\u001b[38;5;241m.\u001b[39mstatus_code, headers\u001b[38;5;241m=\u001b[39mresponse\u001b[38;5;241m.\u001b[39mheaders)\n\u001b[1;32m    227\u001b[0m     \u001b[38;5;28mself\u001b[39m\u001b[38;5;241m.\u001b[39m__print_warning_msg(response)\n\u001b[1;32m    229\u001b[0m \u001b[38;5;28;01mreturn\u001b[39;00m res\n",
      "\u001b[0;31mCohereError\u001b[0m: invalid request: texts[12] is too long. Max tokens per text must be at most 2048 - received 2358. Text: 'What causes Chronic Diarrhea in Children ? http://www.niddk.nih.gov/health-information/health-topics/digestive-diseases/diarrhea/Pages/diarrhea-in-children-facts.aspx Many diseases and disorders can cause chronic diarrhea in children. Common causes include                  - infections  - functional gastrointestinal (GI) disorders  - food allergies and intolerances  - inflammatory bowel disease (IBD)                  Infections, food allergies and intolerances, and IBD may cause chronic diarrhea along with malabsorption, meaning the small intestine does not absorb nutrients from food. If children do not absorb enough nutrients from the food they eat, they may become malnourished. Functional GI disorders do not cause malabsorption.                  Infections                  Infections from viruses, bacteria, or parasites sometimes lead to chronic diarrhea. After an infection, some children have problems digesting carbohydrates, such as lactose, or proteins, such as milk or soy proteins. These problems can cause prolonged diarrheaoften for up to 6 weeksafter an infection. Also, some bacteria and parasite infections that cause diarrhea do not go away quickly without treatment.                  More information about infections that cause diarrhea is provided in the NIDDK health topics:                  - Viral Gastroenteritis  - Foodborne Illnesses                  Small intestinal bacterial overgrowth may also cause chronic diarrhea. Normally, few bacteria live in the small intestine, and many bacteria live in the large intestine. Small intestinal bacterial overgrowth is an increase in the number of bacteria or a change in the type of bacteria in the small intestine. These bacteria can cause diarrhea, gas, cramping, and weight loss. Small intestinal bacterial overgrowth is often related to diseases or disorders that damage the digestive system or affect how it works, such as Crohns disease or diabetes. Small intestinal bacterial overgrowth is also more common in people who have had abdominal surgery or who have slow-moving intestines.                  Functional Gastrointestinal Disorders                  In functional GI disorders, symptoms are caused by changes in how the GI tract works. The GI tract is a series of hollow organs joined in a long, twisting tube from the mouth to the anusthe opening through which stool leaves the body. The GI tract digests, or breaks down, food and processes solid waste.                  Children with a functional GI disorder have frequent symptoms, yet the GI tract does not become damaged. Functional GI disorders are not diseases; they are groups of symptoms that occur together.                  Two functional GI disorders that cause chronic diarrhea in children are toddlers diarrhea and irritable bowel syndrome (IBS).                  Toddlers diarrhea. Toddlers diarrheaalso called functional diarrhea or chronic nonspecific diarrhea of childhoodis a common cause of chronic diarrhea in toddlers and preschool-age children. Children with this disorder pass three or more loose stools a day and do not have any other symptoms. They typically are growing well and gaining weight, and are healthy.                  Toddlers diarrhea develops between the ages of 6 months and 3 years, and it usually goes away on its own by the time children begin grade school. Researchers think a diet with too much sugarsuch as the sugar found in fruit juicerelative to the amount of fat and fiber may cause toddlers diarrhea.                  IBS. The most common symptoms of IBS are abdominal pain or discomfort, often reported as cramping, along with changes in bowel habits, such as diarrhea. The pain or discomfort of IBS typically gets better with the passage of stool or gas. IBS does not cause symptoms such as weight loss, vomiting, or blood in the stool.                  Possible causes include problems with nerves in the intestines, problems with nerve signals between the brain and the intestines, changes in how food moves through the intestines, and hypersensitivity to pain. Psychological problems, such as anxiety and depression, or food sensitivity may also play a role.                  IBS is a common cause of chronic diarrhea in grade school-age children and adolescents. Health care providers rarely diagnose IBS in younger children because younger children are not able to report symptoms of pain or discomfort. More information is provided in the NIDDK health topics:                  - Irritable Bowel Syndrome  - Irritable Bowel Syndrome in Children                  Food Allergies and Intolerances                  Food allergies, celiac disease, lactose intolerance, and dietary fructose intolerance are common causes of chronic diarrhea.                  Food allergies. A food allergy is a reaction by the immune system, the bodys natural defense system, to one or more proteins in certain foods. The immune system normally protects the body from infection by identifying and destroying bacteria, viruses, and other potentially harmful foreign substances that can cause illness. In food allergies, however, the immune system responds abnormally to certain foods.                  Cows milk and soy allergies are the most common food allergies that affect the GI tract in children. Food allergies usually appear in the first year of life. Many children outgrow cows milk and soy allergies by age 3. Allergies to other foods, such as cereal grains, eggs, or seafood, may also affect the GI tract.                  Symptoms of food allergies may include diarrhea, vomiting, and weight loss or poor weight gain. Some children have mild symptoms, while others have severe or life-threatening symptoms. For example, some children have severe vomiting and diarrhea that lead to dehydration, which means the body lacks enough fluid and electrolytesminerals in salts, including sodium, potassium, and chlorideto function properly.                  Celiac disease. Celiac disease is an autoimmune disease in which people cannot tolerate gluten. A chronic reaction to gluten damages the lining of their small intestine and prevents absorption of nutrients. Gluten is a protein found in wheat, rye, and barley and in vitamin and nutrient supplements, lip balms, communion wafers, and certain medications.                  Children of any age can experience digestive symptoms of celiac disease or have symptoms in other parts of the body. Digestive symptoms can include                  - chronic diarrhea  - abdominal bloating  - stomach pain  - gas  - vomiting  - constipation  - pale, foul-smelling, or fatty stool                  Malabsorption of nutrients during the years when nutrition is critical to a childs normal growth and development can result in other health problems. These problems may include                  - failure to thrive in infants  - slowed growth and short stature  - weight loss  - irritability or mood changes  - delayed puberty  - dental enamel defects of the permanent teeth  - anemia, a condition in which red blood cells are fewer or smaller than normal, which prevents the bodys cells from getting enough oxygen  - low levels of important nutrients such as iron and calcium                  More information is provided in the NIDDK health topics:                  - Celiac Disease  - What I need to know about Celiac Disease                  Lactose intolerance. Lactose intolerance is a condition in which people have digestive symptomssuch as bloating, gas, and diarrheaafter consuming milk or milk products. Lactose is a sugar found in milk or milk products. Lactase, an enzyme produced by the small intestine, breaks down lactose into two simpler forms of sugar: glucose and galactose. The bloodstream then absorbs these simpler sugars.                  Some children have a lactase deficiency, meaning the small intestine produces low levels of lactase and cannot digest much lactose. Lactase deficiency may cause lactose malabsorption. In children with lactose malabsorption, undigested lactose passes to the colon, where bacteria break down the lactose and create fluid and gas.                  Not all children with lactase deficiency and lactose malabsorption have digestive symptoms. Experts use the term lactose intolerance when lactase deficiency and lactose malabsorption cause digestive symptoms.                  The most common type of lactase deficiency develops over time, beginning after about age 2, when the body begins to produce less lactase. Children who have lactase deficiency may not experience symptoms of lactose intolerance until late adolescence or adulthood.                  Infants rarely have lactose intolerance at birth. People sometimes mistake cows milk allergy, which can cause diarrhea in infants, for lactose intolerance. Congenital lactase deficiencyan extremely rare inherited genetic disorder in which the small intestine produces little or no lactase enzyme at birthcan cause lactose intolerance in infants. Premature infants may experience lactose intolerance for a short time after birth. Children of any age may develop temporary lactose intolerance after a viral diarrheal episode or other infection.                  More information is provided in the NIDDK health topics:                  - Lactose Intolerance  - What I need to know about Lactose Intolerance                  Dietary fructose intolerance. Dietary fructose intolerance is a condition in which people have digestive symptomssuch as bloating, gas, and diarrheaafter consuming foods that contain fructose. Fructose is a sugar found in fruits, fruit juices, and honey. Fructose is also added to many foods and soft drinks as a sweetener called high fructose corn syrup.                  Fructose malabsorption causes dietary fructose intolerance. The small intestine absorbs fructose, and, when a person consumes more fructose than the small intestine can absorb, fructose malabsorption results. Unabsorbed fructose passes to the colon, where bacteria break down the fructose and create fluid and gas.                  The amount of fructose that a childs small intestine can absorb varies. The capacity of the small intestine to absorb fructose increases with age. Some children may be able to tolerate more fructose as they get older.                  Another type of fructose intolerance, hereditary fructose intolerance, is not related to fructose malabsorption. Hereditary fructose intolerance is an extremely rare inherited genetic disorder. Children with this disorder lack an enzyme needed to break down fructose. Symptoms of hereditary fructose intolerance may include abdominal pain, vomiting, and diarrhea. This disorder can also damage the liver and kidneys.                  Inflammatory Bowel Disease                  Inflammatory bowel disease causes irritation and inflammation in the intestines. The two main types of IBD are ulcerative colitis and Crohns disease. These disorders can affect children at any age; however, they commonly begin in the grade school years or in adolescence. The causes of IBD are unknown. Researchers believe they result from an abnormal immune system reaction.                  Ulcerative colitis. Ulcerative colitis is a disease that causes inflammation, or swelling, and ulcers in the inner lining of the large intestine. The large intestine includes the colon and the rectumthe lower end of the large intestine leading to the anus. Normally, the large intestine absorbs water from stool and changes it from a liquid to a solid. In ulcerative colitis, the inflammation causes loss of the lining of the large intestine, leading to bleeding, production of pus, diarrhea, and abdominal discomfort.                  More information is provided in the NIDDK health topic, Ulcerative Colitis.                  Crohns disease. Crohns disease is a disease that causes inflammation and irritation of any part of the GI tract. The end part of the small intestine, called the ileum, is most commonly affected. In Crohns disease, inflammation can extend through the entire wall of the GI tract, leading to possible complications. Swelling can cause pain and can make the intestine empty frequently, resulting in diarrhea.                  More information is provided in the NIDDK health topics:                  - Crohns Disease  - What I need to know about Crohns Disease)  '"
     ]
    }
   ],
   "source": [
    "response = co.embed(texts=df_flatten, model='multilingual-22-12')  \n",
    "embeddings = response.embeddings # All text embeddings \n",
    "print(embeddings[0][:5])"
   ]
  },
  {
   "cell_type": "code",
   "execution_count": null,
   "metadata": {},
   "outputs": [],
   "source": []
  },
  {
   "cell_type": "code",
   "execution_count": null,
   "metadata": {},
   "outputs": [],
   "source": []
  },
  {
   "cell_type": "code",
   "execution_count": null,
   "metadata": {},
   "outputs": [],
   "source": []
  },
  {
   "cell_type": "code",
   "execution_count": null,
   "metadata": {},
   "outputs": [],
   "source": [
    "# Check the dimensions of the embeddings\n",
    "embeds = np.array(embeds)\n",
    "embeds.shape"
   ]
  },
  {
   "cell_type": "code",
   "execution_count": 9,
   "metadata": {},
   "outputs": [
    {
     "data": {
      "text/plain": [
       "True"
      ]
     },
     "execution_count": 9,
     "metadata": {},
     "output_type": "execute_result"
    }
   ],
   "source": [
    "# Create the search index, pass the size of embedding\n",
    "search_index = AnnoyIndex(embeds.shape[1], 'angular')\n",
    "# Add all the vectors to the search index\n",
    "for i in range(len(embeds)):\n",
    "    search_index.add_item(i, embeds[i])\n",
    "\n",
    "search_index.build(10) # 10 trees\n",
    "search_index.save('test.ann')"
   ]
  },
  {
   "cell_type": "code",
   "execution_count": 10,
   "metadata": {},
   "outputs": [
    {
     "name": "stdout",
     "output_type": "stream",
     "text": [
      "Question:'Why is the disease being called coronavirus disease 2019, COVID-19?'\n",
      "Nearest neighbors:\n"
     ]
    },
    {
     "data": {
      "text/html": [
       "<div>\n",
       "<style scoped>\n",
       "    .dataframe tbody tr th:only-of-type {\n",
       "        vertical-align: middle;\n",
       "    }\n",
       "\n",
       "    .dataframe tbody tr th {\n",
       "        vertical-align: top;\n",
       "    }\n",
       "\n",
       "    .dataframe thead th {\n",
       "        text-align: right;\n",
       "    }\n",
       "</style>\n",
       "<table border=\"1\" class=\"dataframe\">\n",
       "  <thead>\n",
       "    <tr style=\"text-align: right;\">\n",
       "      <th></th>\n",
       "      <th>texts</th>\n",
       "      <th>distance</th>\n",
       "    </tr>\n",
       "  </thead>\n",
       "  <tbody>\n",
       "    <tr>\n",
       "      <th>559</th>\n",
       "      <td>What is COVID-19?</td>\n",
       "      <td>0.708529</td>\n",
       "    </tr>\n",
       "    <tr>\n",
       "      <th>232</th>\n",
       "      <td>¿Por qué a la enfermedad la llaman enfermedad ...</td>\n",
       "      <td>0.813518</td>\n",
       "    </tr>\n",
       "    <tr>\n",
       "      <th>77</th>\n",
       "      <td>What is a novel coronavirus?</td>\n",
       "      <td>0.813775</td>\n",
       "    </tr>\n",
       "    <tr>\n",
       "      <th>558</th>\n",
       "      <td>What is a coronavirus?</td>\n",
       "      <td>0.842466</td>\n",
       "    </tr>\n",
       "    <tr>\n",
       "      <th>569</th>\n",
       "      <td>Is COVID-19 the same as SARS?</td>\n",
       "      <td>0.852085</td>\n",
       "    </tr>\n",
       "    <tr>\n",
       "      <th>1</th>\n",
       "      <td>为什么这种疾病被称为 2019 年新型冠状病毒肺炎（COVID-19）？</td>\n",
       "      <td>0.872134</td>\n",
       "    </tr>\n",
       "    <tr>\n",
       "      <th>578</th>\n",
       "      <td>Is the source of the coronavirus causing COVID...</td>\n",
       "      <td>0.923686</td>\n",
       "    </tr>\n",
       "    <tr>\n",
       "      <th>473</th>\n",
       "      <td>什么是2019冠状病毒病？</td>\n",
       "      <td>0.951086</td>\n",
       "    </tr>\n",
       "    <tr>\n",
       "      <th>804</th>\n",
       "      <td>¿Qué es la COVID-19?</td>\n",
       "      <td>0.960803</td>\n",
       "    </tr>\n",
       "  </tbody>\n",
       "</table>\n",
       "</div>"
      ],
      "text/plain": [
       "                                                 texts  distance\n",
       "559                                  What is COVID-19?  0.708529\n",
       "232  ¿Por qué a la enfermedad la llaman enfermedad ...  0.813518\n",
       "77                        What is a novel coronavirus?  0.813775\n",
       "558                             What is a coronavirus?  0.842466\n",
       "569                      Is COVID-19 the same as SARS?  0.852085\n",
       "1                 为什么这种疾病被称为 2019 年新型冠状病毒肺炎（COVID-19）？  0.872134\n",
       "578  Is the source of the coronavirus causing COVID...  0.923686\n",
       "473                                      什么是2019冠状病毒病？  0.951086\n",
       "804                               ¿Qué es la COVID-19?  0.960803"
      ]
     },
     "execution_count": 10,
     "metadata": {},
     "output_type": "execute_result"
    }
   ],
   "source": [
    "# Choose an example (we'll retrieve others similar to it)\n",
    "example_id = 78\n",
    "\n",
    "# Retrieve nearest neighbors\n",
    "similar_item_ids = search_index.get_nns_by_item(example_id,10,\n",
    "                                                include_distances=True)\n",
    "# Format and print the text and distances\n",
    "results = pd.DataFrame(data={'texts': df.iloc[similar_item_ids[0]]['question'], \n",
    "                             'distance': similar_item_ids[1]}).drop(example_id)\n",
    "\n",
    "print(f\"Question:'{df.iloc[example_id]['question']}'\\nNearest neighbors:\")\n",
    "results"
   ]
  },
  {
   "cell_type": "code",
   "execution_count": 11,
   "metadata": {},
   "outputs": [
    {
     "name": "stdout",
     "output_type": "stream",
     "text": [
      "Query:'what ages are more prone to die from covid'\n",
      "Nearest neighbors:\n"
     ]
    },
    {
     "data": {
      "text/html": [
       "<div>\n",
       "<style scoped>\n",
       "    .dataframe tbody tr th:only-of-type {\n",
       "        vertical-align: middle;\n",
       "    }\n",
       "\n",
       "    .dataframe tbody tr th {\n",
       "        vertical-align: top;\n",
       "    }\n",
       "\n",
       "    .dataframe thead th {\n",
       "        text-align: right;\n",
       "    }\n",
       "</style>\n",
       "<table border=\"1\" class=\"dataframe\">\n",
       "  <thead>\n",
       "    <tr style=\"text-align: right;\">\n",
       "      <th></th>\n",
       "      <th>texts</th>\n",
       "      <th>distance</th>\n",
       "    </tr>\n",
       "  </thead>\n",
       "  <tbody>\n",
       "    <tr>\n",
       "      <th>131</th>\n",
       "      <td>Who is at higher risk for serious illness from...</td>\n",
       "      <td>0.724839</td>\n",
       "    </tr>\n",
       "    <tr>\n",
       "      <th>133</th>\n",
       "      <td>How were the underlying conditions for people ...</td>\n",
       "      <td>0.951346</td>\n",
       "    </tr>\n",
       "    <tr>\n",
       "      <th>565</th>\n",
       "      <td>Who is at risk of developing severe illness?</td>\n",
       "      <td>0.977805</td>\n",
       "    </tr>\n",
       "  </tbody>\n",
       "</table>\n",
       "</div>"
      ],
      "text/plain": [
       "                                                 texts  distance\n",
       "131  Who is at higher risk for serious illness from...  0.724839\n",
       "133  How were the underlying conditions for people ...  0.951346\n",
       "565       Who is at risk of developing severe illness?  0.977805"
      ]
     },
     "execution_count": 11,
     "metadata": {},
     "output_type": "execute_result"
    }
   ],
   "source": [
    "query = \"what ages are more prone to die from covid\"\n",
    "\n",
    "# Get the query's embedding\n",
    "query_embed = co.embed(texts=[query],\n",
    "                  model=\"large\",\n",
    "                  truncate=\"LEFT\").embeddings\n",
    "\n",
    "# Retrieve the nearest neighbors\n",
    "similar_item_ids = search_index.get_nns_by_vector(query_embed[0],3,\n",
    "                                                include_distances=True)\n",
    "# Format the results\n",
    "results = pd.DataFrame(data={'texts': df.iloc[similar_item_ids[0]]['question'], \n",
    "                             'distance': similar_item_ids[1]})\n",
    "\n",
    "\n",
    "print(f\"Query:'{query}'\\nNearest neighbors:\")\n",
    "results"
   ]
  },
  {
   "cell_type": "code",
   "execution_count": null,
   "metadata": {},
   "outputs": [],
   "source": []
  },
  {
   "cell_type": "code",
   "execution_count": null,
   "metadata": {},
   "outputs": [],
   "source": []
  }
 ],
 "metadata": {
  "kernelspec": {
   "display_name": "Python 3 (ipykernel)",
   "language": "python",
   "name": "python3"
  },
  "language_info": {
   "codemirror_mode": {
    "name": "ipython",
    "version": 3
   },
   "file_extension": ".py",
   "mimetype": "text/x-python",
   "name": "python",
   "nbconvert_exporter": "python",
   "pygments_lexer": "ipython3",
   "version": "3.9.15"
  },
  "vscode": {
   "interpreter": {
    "hash": "a665b5d41d17b532ea9890333293a1b812fa0b73c9c25c950b3cedf1bebd0438"
   }
  }
 },
 "nbformat": 4,
 "nbformat_minor": 2
}
