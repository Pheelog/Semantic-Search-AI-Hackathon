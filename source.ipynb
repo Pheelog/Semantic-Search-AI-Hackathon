{
 "cells": [
  {
   "cell_type": "code",
   "execution_count": 1,
   "metadata": {},
   "outputs": [],
   "source": [
    "import pandas as pd\n",
    "import numpy as np\n",
    "import cohere\n",
    "import re\n",
    "from tqdm import tqdm\n",
    "import umap\n",
    "import altair as alt\n",
    "from sklearn.metrics.pairwise import cosine_similarity\n",
    "from annoy import AnnoyIndex\n",
    "import warnings\n",
    "warnings.filterwarnings('ignore')"
   ]
  },
  {
   "cell_type": "code",
   "execution_count": 2,
   "metadata": {},
   "outputs": [],
   "source": [
    "# Paste your API key here. Remember to not share publicly\n",
    "api_key = open(\"api_key.txt\").readlines()[0]\n",
    "\n",
    "# Create and retrieve a Cohere API key from os.cohere.ai\n",
    "co = cohere.Client(api_key)"
   ]
  },
  {
   "cell_type": "code",
   "execution_count": 3,
   "metadata": {},
   "outputs": [],
   "source": [
    "df = pd.read_csv('data/multilingual.csv')"
   ]
  },
  {
   "cell_type": "code",
   "execution_count": 4,
   "metadata": {},
   "outputs": [
    {
     "data": {
      "text/html": [
       "<div>\n",
       "<style scoped>\n",
       "    .dataframe tbody tr th:only-of-type {\n",
       "        vertical-align: middle;\n",
       "    }\n",
       "\n",
       "    .dataframe tbody tr th {\n",
       "        vertical-align: top;\n",
       "    }\n",
       "\n",
       "    .dataframe thead th {\n",
       "        text-align: right;\n",
       "    }\n",
       "</style>\n",
       "<table border=\"1\" class=\"dataframe\">\n",
       "  <thead>\n",
       "    <tr style=\"text-align: right;\">\n",
       "      <th></th>\n",
       "      <th>question</th>\n",
       "      <th>answer</th>\n",
       "      <th>url</th>\n",
       "      <th>language</th>\n",
       "      <th>source</th>\n",
       "      <th>section</th>\n",
       "      <th>wrong_answer</th>\n",
       "    </tr>\n",
       "  </thead>\n",
       "  <tbody>\n",
       "    <tr>\n",
       "      <th>0</th>\n",
       "      <td>什么是新型冠状病毒？</td>\n",
       "      <td>新型冠状病毒是一种此前尚未确定的新冠状病毒。导致新型冠状病毒肺炎 | 新冠肺炎2019（CO...</td>\n",
       "      <td>https://chinese.cdc.gov/coronavirus/2019-ncov/...</td>\n",
       "      <td>chinese</td>\n",
       "      <td>CDC</td>\n",
       "      <td>Frequently Asked Questions</td>\n",
       "      <td>使用 CDC 开发的诊断检测，结果为阴性是指在受测者样本中未发现导致 COVID-19 的病...</td>\n",
       "    </tr>\n",
       "    <tr>\n",
       "      <th>1</th>\n",
       "      <td>为什么这种疾病被称为 2019 年新型冠状病毒肺炎（COVID-19）？</td>\n",
       "      <td>2020 年 2 月 11 日，世界卫生组织宣布了导致最初于中国武汉发现的 2019 年新型...</td>\n",
       "      <td>https://chinese.cdc.gov/coronavirus/2019-ncov/...</td>\n",
       "      <td>chinese</td>\n",
       "      <td>CDC</td>\n",
       "      <td>Frequently Asked Questions</td>\n",
       "      <td>引发COVID-19的病毒被认为主要以人传人的方式，通过感染患者咳嗽或打喷嚏时产生的呼吸道飞...</td>\n",
       "    </tr>\n",
       "    <tr>\n",
       "      <th>2</th>\n",
       "      <td>为什么有人会因为 COVID-19 而指责或躲避某些个人和群体（制造污名）？</td>\n",
       "      <td>美国民众可能对住在或前往COVID-19传播地区的亲友感到担心焦虑。有些人很担心通过这些人感...</td>\n",
       "      <td>https://chinese.cdc.gov/coronavirus/2019-ncov/...</td>\n",
       "      <td>chinese</td>\n",
       "      <td>CDC</td>\n",
       "      <td>Frequently Asked Questions</td>\n",
       "      <td>目前，没有证据表明COVID-19病毒会从宠物的皮肤或皮毛传播给人类。\\n关于照顾宠物的最佳...</td>\n",
       "    </tr>\n",
       "    <tr>\n",
       "      <th>3</th>\n",
       "      <td>人们如何制止与 COVID-19 相关的污名化？</td>\n",
       "      <td>在注意到污名化正在发生的情况下，人们可以通过提供社会支持来对抗污名化。污名会影响被污名化群体...</td>\n",
       "      <td>https://chinese.cdc.gov/coronavirus/2019-ncov/...</td>\n",
       "      <td>chinese</td>\n",
       "      <td>CDC</td>\n",
       "      <td>Frequently Asked Questions</td>\n",
       "      <td>洗手是保护您与您的家人远离疾病的最佳途径之一。经常用肥皂和水洗手20秒以上，尤其是擤鼻涕、咳...</td>\n",
       "    </tr>\n",
       "    <tr>\n",
       "      <th>4</th>\n",
       "      <td>为何某些州的COVID-19病例数量有时与CDC网站上发布的数量有差别？</td>\n",
       "      <td>CDC发布的总病例数量依照各辖区的确认程序得以验证。不同的地方所显示的病例数量的发现和确认程...</td>\n",
       "      <td>https://chinese.cdc.gov/coronavirus/2019-ncov/...</td>\n",
       "      <td>chinese</td>\n",
       "      <td>CDC</td>\n",
       "      <td>Frequently Asked Questions</td>\n",
       "      <td>\\n\\n与孩子的学校保持联系。\\n\\n很多学校提供网络课程（虚拟学习）。查看学校布置的作业，...</td>\n",
       "    </tr>\n",
       "  </tbody>\n",
       "</table>\n",
       "</div>"
      ],
      "text/plain": [
       "                                 question  \\\n",
       "0                              什么是新型冠状病毒？   \n",
       "1    为什么这种疾病被称为 2019 年新型冠状病毒肺炎（COVID-19）？   \n",
       "2  为什么有人会因为 COVID-19 而指责或躲避某些个人和群体（制造污名）？   \n",
       "3                人们如何制止与 COVID-19 相关的污名化？   \n",
       "4    为何某些州的COVID-19病例数量有时与CDC网站上发布的数量有差别？   \n",
       "\n",
       "                                              answer  \\\n",
       "0  新型冠状病毒是一种此前尚未确定的新冠状病毒。导致新型冠状病毒肺炎 | 新冠肺炎2019（CO...   \n",
       "1  2020 年 2 月 11 日，世界卫生组织宣布了导致最初于中国武汉发现的 2019 年新型...   \n",
       "2  美国民众可能对住在或前往COVID-19传播地区的亲友感到担心焦虑。有些人很担心通过这些人感...   \n",
       "3  在注意到污名化正在发生的情况下，人们可以通过提供社会支持来对抗污名化。污名会影响被污名化群体...   \n",
       "4  CDC发布的总病例数量依照各辖区的确认程序得以验证。不同的地方所显示的病例数量的发现和确认程...   \n",
       "\n",
       "                                                 url language source  \\\n",
       "0  https://chinese.cdc.gov/coronavirus/2019-ncov/...  chinese    CDC   \n",
       "1  https://chinese.cdc.gov/coronavirus/2019-ncov/...  chinese    CDC   \n",
       "2  https://chinese.cdc.gov/coronavirus/2019-ncov/...  chinese    CDC   \n",
       "3  https://chinese.cdc.gov/coronavirus/2019-ncov/...  chinese    CDC   \n",
       "4  https://chinese.cdc.gov/coronavirus/2019-ncov/...  chinese    CDC   \n",
       "\n",
       "                      section  \\\n",
       "0  Frequently Asked Questions   \n",
       "1  Frequently Asked Questions   \n",
       "2  Frequently Asked Questions   \n",
       "3  Frequently Asked Questions   \n",
       "4  Frequently Asked Questions   \n",
       "\n",
       "                                        wrong_answer  \n",
       "0  使用 CDC 开发的诊断检测，结果为阴性是指在受测者样本中未发现导致 COVID-19 的病...  \n",
       "1  引发COVID-19的病毒被认为主要以人传人的方式，通过感染患者咳嗽或打喷嚏时产生的呼吸道飞...  \n",
       "2  目前，没有证据表明COVID-19病毒会从宠物的皮肤或皮毛传播给人类。\\n关于照顾宠物的最佳...  \n",
       "3  洗手是保护您与您的家人远离疾病的最佳途径之一。经常用肥皂和水洗手20秒以上，尤其是擤鼻涕、咳...  \n",
       "4  \\n\\n与孩子的学校保持联系。\\n\\n很多学校提供网络课程（虚拟学习）。查看学校布置的作业，...  "
      ]
     },
     "execution_count": 4,
     "metadata": {},
     "output_type": "execute_result"
    }
   ],
   "source": [
    "df.head()"
   ]
  },
  {
   "cell_type": "code",
   "execution_count": 5,
   "metadata": {},
   "outputs": [
    {
     "data": {
      "text/plain": [
       "question        1\n",
       "answer          0\n",
       "url             0\n",
       "language        0\n",
       "source          0\n",
       "section         0\n",
       "wrong_answer    0\n",
       "dtype: int64"
      ]
     },
     "execution_count": 5,
     "metadata": {},
     "output_type": "execute_result"
    }
   ],
   "source": [
    "df.isnull().sum()"
   ]
  },
  {
   "cell_type": "code",
   "execution_count": 6,
   "metadata": {},
   "outputs": [],
   "source": [
    "df = df.dropna(axis=0)"
   ]
  },
  {
   "cell_type": "code",
   "execution_count": 7,
   "metadata": {},
   "outputs": [],
   "source": [
    "# Get the embeddings\n",
    "embeds = co.embed(texts=list(df['question']),\n",
    "                  model=\"large\",\n",
    "                  truncate=\"LEFT\").embeddings"
   ]
  },
  {
   "cell_type": "code",
   "execution_count": 8,
   "metadata": {},
   "outputs": [
    {
     "data": {
      "text/plain": [
       "(887, 4096)"
      ]
     },
     "execution_count": 8,
     "metadata": {},
     "output_type": "execute_result"
    }
   ],
   "source": [
    "# Check the dimensions of the embeddings\n",
    "embeds = np.array(embeds)\n",
    "embeds.shape"
   ]
  },
  {
   "cell_type": "code",
   "execution_count": 9,
   "metadata": {},
   "outputs": [
    {
     "data": {
      "text/plain": [
       "True"
      ]
     },
     "execution_count": 9,
     "metadata": {},
     "output_type": "execute_result"
    }
   ],
   "source": [
    "# Create the search index, pass the size of embedding\n",
    "search_index = AnnoyIndex(embeds.shape[1], 'angular')\n",
    "# Add all the vectors to the search index\n",
    "for i in range(len(embeds)):\n",
    "    search_index.add_item(i, embeds[i])\n",
    "\n",
    "search_index.build(10) # 10 trees\n",
    "search_index.save('test.ann')"
   ]
  },
  {
   "cell_type": "code",
   "execution_count": 10,
   "metadata": {},
   "outputs": [
    {
     "name": "stdout",
     "output_type": "stream",
     "text": [
      "Question:'Why is the disease being called coronavirus disease 2019, COVID-19?'\n",
      "Nearest neighbors:\n"
     ]
    },
    {
     "data": {
      "text/html": [
       "<div>\n",
       "<style scoped>\n",
       "    .dataframe tbody tr th:only-of-type {\n",
       "        vertical-align: middle;\n",
       "    }\n",
       "\n",
       "    .dataframe tbody tr th {\n",
       "        vertical-align: top;\n",
       "    }\n",
       "\n",
       "    .dataframe thead th {\n",
       "        text-align: right;\n",
       "    }\n",
       "</style>\n",
       "<table border=\"1\" class=\"dataframe\">\n",
       "  <thead>\n",
       "    <tr style=\"text-align: right;\">\n",
       "      <th></th>\n",
       "      <th>texts</th>\n",
       "      <th>distance</th>\n",
       "    </tr>\n",
       "  </thead>\n",
       "  <tbody>\n",
       "    <tr>\n",
       "      <th>559</th>\n",
       "      <td>What is COVID-19?</td>\n",
       "      <td>0.708529</td>\n",
       "    </tr>\n",
       "    <tr>\n",
       "      <th>232</th>\n",
       "      <td>¿Por qué a la enfermedad la llaman enfermedad ...</td>\n",
       "      <td>0.813518</td>\n",
       "    </tr>\n",
       "    <tr>\n",
       "      <th>77</th>\n",
       "      <td>What is a novel coronavirus?</td>\n",
       "      <td>0.813775</td>\n",
       "    </tr>\n",
       "    <tr>\n",
       "      <th>558</th>\n",
       "      <td>What is a coronavirus?</td>\n",
       "      <td>0.842466</td>\n",
       "    </tr>\n",
       "    <tr>\n",
       "      <th>569</th>\n",
       "      <td>Is COVID-19 the same as SARS?</td>\n",
       "      <td>0.852085</td>\n",
       "    </tr>\n",
       "    <tr>\n",
       "      <th>1</th>\n",
       "      <td>为什么这种疾病被称为 2019 年新型冠状病毒肺炎（COVID-19）？</td>\n",
       "      <td>0.872134</td>\n",
       "    </tr>\n",
       "    <tr>\n",
       "      <th>578</th>\n",
       "      <td>Is the source of the coronavirus causing COVID...</td>\n",
       "      <td>0.923686</td>\n",
       "    </tr>\n",
       "    <tr>\n",
       "      <th>473</th>\n",
       "      <td>什么是2019冠状病毒病？</td>\n",
       "      <td>0.951086</td>\n",
       "    </tr>\n",
       "    <tr>\n",
       "      <th>804</th>\n",
       "      <td>¿Qué es la COVID-19?</td>\n",
       "      <td>0.960803</td>\n",
       "    </tr>\n",
       "  </tbody>\n",
       "</table>\n",
       "</div>"
      ],
      "text/plain": [
       "                                                 texts  distance\n",
       "559                                  What is COVID-19?  0.708529\n",
       "232  ¿Por qué a la enfermedad la llaman enfermedad ...  0.813518\n",
       "77                        What is a novel coronavirus?  0.813775\n",
       "558                             What is a coronavirus?  0.842466\n",
       "569                      Is COVID-19 the same as SARS?  0.852085\n",
       "1                 为什么这种疾病被称为 2019 年新型冠状病毒肺炎（COVID-19）？  0.872134\n",
       "578  Is the source of the coronavirus causing COVID...  0.923686\n",
       "473                                      什么是2019冠状病毒病？  0.951086\n",
       "804                               ¿Qué es la COVID-19?  0.960803"
      ]
     },
     "execution_count": 10,
     "metadata": {},
     "output_type": "execute_result"
    }
   ],
   "source": [
    "# Choose an example (we'll retrieve others similar to it)\n",
    "example_id = 78\n",
    "\n",
    "# Retrieve nearest neighbors\n",
    "similar_item_ids = search_index.get_nns_by_item(example_id,10,\n",
    "                                                include_distances=True)\n",
    "# Format and print the text and distances\n",
    "results = pd.DataFrame(data={'texts': df.iloc[similar_item_ids[0]]['question'], \n",
    "                             'distance': similar_item_ids[1]}).drop(example_id)\n",
    "\n",
    "print(f\"Question:'{df.iloc[example_id]['question']}'\\nNearest neighbors:\")\n",
    "results"
   ]
  },
  {
   "cell_type": "code",
   "execution_count": 11,
   "metadata": {},
   "outputs": [
    {
     "name": "stdout",
     "output_type": "stream",
     "text": [
      "Query:'what ages are more prone to die from covid'\n",
      "Nearest neighbors:\n"
     ]
    },
    {
     "data": {
      "text/html": [
       "<div>\n",
       "<style scoped>\n",
       "    .dataframe tbody tr th:only-of-type {\n",
       "        vertical-align: middle;\n",
       "    }\n",
       "\n",
       "    .dataframe tbody tr th {\n",
       "        vertical-align: top;\n",
       "    }\n",
       "\n",
       "    .dataframe thead th {\n",
       "        text-align: right;\n",
       "    }\n",
       "</style>\n",
       "<table border=\"1\" class=\"dataframe\">\n",
       "  <thead>\n",
       "    <tr style=\"text-align: right;\">\n",
       "      <th></th>\n",
       "      <th>texts</th>\n",
       "      <th>distance</th>\n",
       "    </tr>\n",
       "  </thead>\n",
       "  <tbody>\n",
       "    <tr>\n",
       "      <th>131</th>\n",
       "      <td>Who is at higher risk for serious illness from...</td>\n",
       "      <td>0.724839</td>\n",
       "    </tr>\n",
       "    <tr>\n",
       "      <th>133</th>\n",
       "      <td>How were the underlying conditions for people ...</td>\n",
       "      <td>0.951346</td>\n",
       "    </tr>\n",
       "    <tr>\n",
       "      <th>565</th>\n",
       "      <td>Who is at risk of developing severe illness?</td>\n",
       "      <td>0.977805</td>\n",
       "    </tr>\n",
       "  </tbody>\n",
       "</table>\n",
       "</div>"
      ],
      "text/plain": [
       "                                                 texts  distance\n",
       "131  Who is at higher risk for serious illness from...  0.724839\n",
       "133  How were the underlying conditions for people ...  0.951346\n",
       "565       Who is at risk of developing severe illness?  0.977805"
      ]
     },
     "execution_count": 11,
     "metadata": {},
     "output_type": "execute_result"
    }
   ],
   "source": [
    "query = \"what ages are more prone to die from covid\"\n",
    "\n",
    "# Get the query's embedding\n",
    "query_embed = co.embed(texts=[query],\n",
    "                  model=\"large\",\n",
    "                  truncate=\"LEFT\").embeddings\n",
    "\n",
    "# Retrieve the nearest neighbors\n",
    "similar_item_ids = search_index.get_nns_by_vector(query_embed[0],3,\n",
    "                                                include_distances=True)\n",
    "# Format the results\n",
    "results = pd.DataFrame(data={'texts': df.iloc[similar_item_ids[0]]['question'], \n",
    "                             'distance': similar_item_ids[1]})\n",
    "\n",
    "\n",
    "print(f\"Query:'{query}'\\nNearest neighbors:\")\n",
    "results"
   ]
  },
  {
   "cell_type": "code",
   "execution_count": null,
   "metadata": {},
   "outputs": [],
   "source": []
  },
  {
   "cell_type": "code",
   "execution_count": null,
   "metadata": {},
   "outputs": [],
   "source": []
  }
 ],
 "metadata": {
  "kernelspec": {
   "display_name": "Python 3 (ipykernel)",
   "language": "python",
   "name": "python3"
  },
  "language_info": {
   "codemirror_mode": {
    "name": "ipython",
    "version": 3
   },
   "file_extension": ".py",
   "mimetype": "text/x-python",
   "name": "python",
   "nbconvert_exporter": "python",
   "pygments_lexer": "ipython3",
   "version": "3.9.15"
  },
  "vscode": {
   "interpreter": {
    "hash": "a665b5d41d17b532ea9890333293a1b812fa0b73c9c25c950b3cedf1bebd0438"
   }
  }
 },
 "nbformat": 4,
 "nbformat_minor": 2
}
